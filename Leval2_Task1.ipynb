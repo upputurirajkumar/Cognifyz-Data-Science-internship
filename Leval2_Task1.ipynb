{
  "nbformat": 4,
  "nbformat_minor": 0,
  "metadata": {
    "colab": {
      "provenance": [],
      "authorship_tag": "ABX9TyNDJ/qHaIzkafW6Viv/vmzb"
    },
    "kernelspec": {
      "name": "python3",
      "display_name": "Python 3"
    },
    "language_info": {
      "name": "python"
    }
  },
  "cells": [
    {
      "cell_type": "code",
      "execution_count": null,
      "metadata": {
        "id": "a1-1z58zhG4e"
      },
      "outputs": [],
      "source": [
        "import pandas as pd\n",
        "import matplotlib.pyplot as plt\n"
      ]
    },
    {
      "cell_type": "code",
      "source": [
        "# Load your dataset\n",
        "df = pd.read_csv('Dataset.csv')"
      ],
      "metadata": {
        "id": "JadiYCOghNkm"
      },
      "execution_count": null,
      "outputs": []
    },
    {
      "cell_type": "code",
      "source": [
        "# : Explore the dataset\n",
        "\n",
        "df\n"
      ],
      "metadata": {
        "id": "tDyqghnqhNg-"
      },
      "execution_count": null,
      "outputs": []
    },
    {
      "cell_type": "code",
      "source": [
        "df['Has Table booking'] = df['Has Table booking'].apply(lambda x: 1 if x == 'Yes' else 0)\n",
        "df['Has Online delivery'] = df['Has Online delivery'].apply(lambda x: 1 if x == 'Yes' else 0)\n"
      ],
      "metadata": {
        "id": "Jmo07XSEhNeK"
      },
      "execution_count": null,
      "outputs": []
    },
    {
      "cell_type": "code",
      "source": [
        "# Calculate the percentage of restaurants with table booking and online delivery\n",
        "table_booking_percentage = (df['Has Table booking'].sum() / len(df)) * 100\n",
        "online_delivery_percentage = (df['Has Online delivery'].sum() / len(df)) * 100\n",
        "\n",
        "print(f\"Percentage of restaurants offering table booking: {table_booking_percentage:.2f}%\")\n",
        "print(f\"Percentage of restaurants offering online delivery: {online_delivery_percentage:.2f}%\")\n"
      ],
      "metadata": {
        "id": "sIj0ydOXhNbE"
      },
      "execution_count": null,
      "outputs": []
    },
    {
      "cell_type": "code",
      "source": [
        "# Analyze availability of online delivery among different price ranges\n",
        "online_delivery_by_price_range = df.groupby('Price range')['Has Online delivery'].value_counts(normalize=True).unstack(fill_value=0) * 100\n"
      ],
      "metadata": {
        "id": "ZQAn8aJdhNX3"
      },
      "execution_count": null,
      "outputs": []
    },
    {
      "cell_type": "code",
      "source": [
        "# Print summary\n",
        "print(\" Price range of Availability of online delivery:\")\n",
        "print(online_delivery_by_price_range)\n"
      ],
      "metadata": {
        "id": "4rMMQ6u3hNUk"
      },
      "execution_count": null,
      "outputs": []
    },
    {
      "cell_type": "code",
      "source": [
        "common_cuisines = df['Cuisines'].str.split(', ', expand=True).stack().value_counts().head(10)\n",
        "print(\"Top 10 most common cuisines:\")\n",
        "print(common_cuisines)\n"
      ],
      "metadata": {
        "id": "KSz6spmfhNQ7"
      },
      "execution_count": null,
      "outputs": []
    },
    {
      "cell_type": "code",
      "source": [
        "restaurants_by_city = df['City'].value_counts().head(10)\n",
        "print(\"Top 10 cities with the most restaurants:\")\n",
        "print(restaurants_by_city)\n"
      ],
      "metadata": {
        "id": "MSiYOjkmhNNK"
      },
      "execution_count": null,
      "outputs": []
    },
    {
      "cell_type": "code",
      "source": [
        "average_cost_by_city = df.groupby('City')['Average Cost for two'].mean().sort_values(ascending=False).head(10)\n",
        "print(\"Top 10 cities with the highest average cost for two person:\")\n",
        "print(average_cost_by_city)\n"
      ],
      "metadata": {
        "id": "cp5pRMuGhNJm"
      },
      "execution_count": null,
      "outputs": []
    },
    {
      "cell_type": "code",
      "source": [
        "unique_colors = df['Rating color'].unique()\n",
        "print(unique_colors)\n"
      ],
      "metadata": {
        "id": "iPoCww85iHmg"
      },
      "execution_count": null,
      "outputs": []
    },
    {
      "cell_type": "code",
      "source": [
        "# Visualize\n",
        "plt.figure(figsize=(10, 6))\n",
        "restaurants_by_city.plot(kind='bar')\n",
        "plt.title('Distribution of Restaurants by City')\n",
        "plt.xlabel('City')\n",
        "plt.ylabel('Number of Restaurants')\n",
        "plt.show()\n"
      ],
      "metadata": {
        "id": "tKawynPbiHjS"
      },
      "execution_count": null,
      "outputs": []
    },
    {
      "cell_type": "code",
      "source": [],
      "metadata": {
        "id": "noj_9CF6iHfb"
      },
      "execution_count": null,
      "outputs": []
    },
    {
      "cell_type": "code",
      "source": [],
      "metadata": {
        "id": "ZRAUiejNiHbX"
      },
      "execution_count": null,
      "outputs": []
    }
  ]
}